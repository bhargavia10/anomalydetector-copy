{
  "nbformat": 4,
  "nbformat_minor": 0,
  "metadata": {
    "colab": {
      "provenance": []
    },
    "kernelspec": {
      "name": "python3",
      "display_name": "Python 3"
    },
    "language_info": {
      "name": "python"
    }
  },
  "cells": [
    {
      "cell_type": "code",
      "execution_count": null,
      "metadata": {
        "id": "8Ww0spfS2uD2"
      },
      "outputs": [],
      "source": [
        "import pandas as pd\n",
        "import numpy as np\n",
        "import matplotlib.pyplot as plt\n",
        "import seaborn as sns\n",
        "from sklearn.model_selection import train_test_split\n",
        "from sklearn.preprocessing import StandardScaler\n",
        "from sklearn.linear_model import LogisticRegression\n",
        "from sklearn.metrics import classification_report, roc_auc_score, confusion_matrix"
      ]
    },
    {
      "cell_type": "code",
      "source": [
        "file_path = '/content/EWS.csv'\n",
        "data = pd.read_csv(file_path)"
      ],
      "metadata": {
        "id": "66SsfiGC3qLM"
      },
      "execution_count": null,
      "outputs": []
    },
    {
      "cell_type": "code",
      "source": [
        "print(\"Missing Values:\\n\", data.isnull().sum())"
      ],
      "metadata": {
        "colab": {
          "base_uri": "https://localhost:8080/"
        },
        "id": "NSG-EQ6P36qO",
        "outputId": "211b26d9-876f-467c-f041-6d1c394ddb61"
      },
      "execution_count": null,
      "outputs": [
        {
          "output_type": "stream",
          "name": "stdout",
          "text": [
            "Missing Values:\n",
            " Y            0\n",
            "Data         0\n",
            "XAU BGNL     0\n",
            "ECSURPUS     0\n",
            "BDIY         0\n",
            "CRY          0\n",
            "DXY          0\n",
            "JPY          0\n",
            "GBP          0\n",
            "Cl1          0\n",
            "VIX          0\n",
            "USGG30YR     0\n",
            "GT10         0\n",
            "USGG2YR      0\n",
            "USGG3M       0\n",
            "US0001M      0\n",
            "GTDEM30Y     0\n",
            "GTDEM10Y     0\n",
            "GTDEM2Y      0\n",
            "EONIA        0\n",
            "GTITL30YR    0\n",
            "GTITL10YR    0\n",
            "GTITL2YR     0\n",
            "GTJPY30YR    0\n",
            "GTJPY10YR    0\n",
            "GTJPY2YR     0\n",
            "GTGBP30Y     0\n",
            "GTGBP20Y     0\n",
            "GTGBP2Y      0\n",
            "LUMSTRUU     0\n",
            "LMBITR       0\n",
            "LUACTRUU     0\n",
            "LF98TRUU     0\n",
            "LG30TRUU     0\n",
            "LP01TREU     0\n",
            "EMUSTRUU     0\n",
            "LF94TRUU     0\n",
            "MXUS         0\n",
            "MXEU         0\n",
            "MXJP         0\n",
            "MXBR         0\n",
            "MXRU         0\n",
            "MXIN         0\n",
            "MXCN         0\n",
            "dtype: int64\n"
          ]
        }
      ]
    },
    {
      "cell_type": "code",
      "source": [
        "# Basic statistics\n",
        "print(\"\\nDataset Statistics:\\n\", data.describe())"
      ],
      "metadata": {
        "colab": {
          "base_uri": "https://localhost:8080/"
        },
        "id": "UeURHyPh49ZV",
        "outputId": "e56f165a-d464-480f-f586-d5cd323e3238"
      },
      "execution_count": null,
      "outputs": [
        {
          "output_type": "stream",
          "name": "stdout",
          "text": [
            "\n",
            "Dataset Statistics:\n",
            "                  Y     XAU BGNL     ECSURPUS          BDIY          CRY  \\\n",
            "count  1111.000000  1111.000000  1111.000000   1111.000000  1111.000000   \n",
            "mean      0.213321   987.463744     0.036153   2259.860486   245.247670   \n",
            "std       0.409837   494.623740     0.349453   2017.811888    68.278066   \n",
            "min       0.000000   256.680000    -0.974000    291.000000   106.293000   \n",
            "25%       0.000000   433.740000    -0.191000    990.000000   184.705550   \n",
            "50%       0.000000  1137.800000     0.035000   1518.000000   234.560000   \n",
            "75%       0.000000  1324.825000     0.260500   2685.500000   301.539500   \n",
            "max       1.000000  2006.910000     0.991000  11793.000000   467.570000   \n",
            "\n",
            "               DXY          JPY          GBP          Cl1          VIX  ...  \\\n",
            "count  1111.000000  1111.000000  1111.000000  1111.000000  1111.000000  ...   \n",
            "mean     90.934982   106.605734     1.569661    60.708101    19.992169  ...   \n",
            "std      11.379095    12.840754     0.212344    25.900813     8.642157  ...   \n",
            "min      71.329000    75.940000     1.172000    10.010000     9.430000  ...   \n",
            "25%      81.240500   101.565000     1.418000    39.625000    13.640000  ...   \n",
            "50%      89.716000   108.720000     1.562000    57.400000    17.980000  ...   \n",
            "75%      97.404000   116.220000     1.677500    79.640000    23.625000  ...   \n",
            "max     119.820000   134.630000     2.085000   140.970000    75.910000  ...   \n",
            "\n",
            "          LP01TREU     EMUSTRUU     LF94TRUU         MXUS         MXEU  \\\n",
            "count  1111.000000  1111.000000  1111.000000  1111.000000  1111.000000   \n",
            "mean    232.109985   704.379545   259.052717  1606.997102   107.877138   \n",
            "std     109.917628   309.951757    75.934451   698.481956    20.795973   \n",
            "min      80.797000   230.527000   121.331000   663.690000    56.300000   \n",
            "25%     131.025000   434.661000   205.315500  1103.925000    90.605000   \n",
            "50%     213.205000   714.807000   264.770000  1324.430000   111.320000   \n",
            "75%     342.884500   939.824500   320.753000  1992.445000   126.470000   \n",
            "max     431.552800  1286.353000   398.706500  4043.690000   146.390000   \n",
            "\n",
            "              MXJP         MXBR         MXRU         MXIN         MXCN  \n",
            "count  1111.000000  1111.000000  1111.000000  1111.000000  1111.000000  \n",
            "mean    784.846292  1903.216436   648.681377   693.156616    53.933159  \n",
            "std     200.076443   986.468254   299.096020   405.527014    24.738356  \n",
            "min     431.710000   280.500000   151.250000   112.600000    13.460000  \n",
            "25%     601.615000  1042.645000   463.195000   278.385000    28.565000  \n",
            "50%     786.830000  1860.960000   612.930000   691.530000    58.740000  \n",
            "75%     965.875000  2533.770000   793.620000  1014.750000    68.460000  \n",
            "max    1210.580000  4721.360000  1617.640000  1730.510000   129.200000  \n",
            "\n",
            "[8 rows x 43 columns]\n"
          ]
        }
      ]
    },
    {
      "cell_type": "code",
      "source": [
        "# Target variable distribution\n",
        "sns.countplot(x='Y', data=data)\n",
        "plt.title('Distribution of Target Variable (Y)')\n",
        "plt.show()"
      ],
      "metadata": {
        "colab": {
          "base_uri": "https://localhost:8080/",
          "height": 472
        },
        "id": "Wu9ehwbK5ZSH",
        "outputId": "f3736869-6e95-44c9-defc-9e85368ddf1a"
      },
      "execution_count": null,
      "outputs": [
        {
          "output_type": "display_data",
          "data": {
            "text/plain": [
              "<Figure size 640x480 with 1 Axes>"
            ],
            "image/png": "[encoded data removed]"
          },
          "metadata": {}
        }
      ]
    },
    {
      "cell_type": "code",
      "source": [
        "# Convert 'Data' column to datetime and extract features\n",
        "data['Data'] = pd.to_datetime(data['Data'])\n",
        "data['Year'] = data['Data'].dt.year\n",
        "data['Month'] = data['Data'].dt.month\n",
        "data['Day'] = data['Data'].dt.day\n",
        "data = data.drop(columns=['Data'])  # Drop the original 'Data' column"
      ],
      "metadata": {
        "id": "rqkABbqqJEXt"
      },
      "execution_count": null,
      "outputs": []
    },
    {
      "cell_type": "code",
      "source": [
        "# Correlation matrix\n",
        "plt.figure(figsize=(12, 10))\n",
        "# Extract numerical features for correlation\n",
        "numerical_data = data.select_dtypes(include=np.number)\n",
        "correlation_matrix = data.corr()\n",
        "sns.heatmap(correlation_matrix, cmap='coolwarm', annot=False)\n",
        "plt.title('Correlation Matrix')\n",
        "plt.show()\n"
      ],
      "metadata": {
        "colab": {
          "base_uri": "https://localhost:8080/",
          "height": 917
        },
        "id": "uhxrdyUQ7QcI",
        "outputId": "b350f35e-934c-42af-bf23-559b56dfd4fc"
      },
      "execution_count": null,
      "outputs": [
        {
          "output_type": "display_data",
          "data": {
            "text/plain": [
              "<Figure size 1200x1000 with 2 Axes>"
            ],
            "image/png": "[encoded data removed]"
          },
          "metadata": {}
        }
      ]
    },
    {
      "cell_type": "code",
      "source": [
        "# Identify top correlated features with the target (Y)\n",
        "target_corr = correlation_matrix['Y'].sort_values(ascending=False)\n",
        "print(\"\\nTop Correlated Features with Y:\\n\", target_corr.head(15))"
      ],
      "metadata": {
        "colab": {
          "base_uri": "https://localhost:8080/"
        },
        "id": "ORvLPC5I7jlE",
        "outputId": "68f9af9f-62e6-4687-ae1a-22f9372b4179"
      },
      "execution_count": null,
      "outputs": [
        {
          "output_type": "stream",
          "name": "stdout",
          "text": [
            "\n",
            "Top Correlated Features with Y:\n",
            " Y            1.000000\n",
            "VIX          0.598432\n",
            "GTITL2YR     0.304528\n",
            "GTITL10YR    0.297573\n",
            "GTITL30YR    0.295000\n",
            "EONIA        0.180311\n",
            "GTDEM30Y     0.141537\n",
            "GTDEM10Y     0.139933\n",
            "GTJPY10YR    0.133660\n",
            "GTDEM2Y      0.130607\n",
            "GTJPY30YR    0.114555\n",
            "GTJPY2YR     0.112314\n",
            "DXY          0.103227\n",
            "GTGBP20Y     0.100142\n",
            "GTGBP30Y     0.099777\n",
            "Name: Y, dtype: float64\n"
          ]
        }
      ]
    },
    {
      "cell_type": "code",
      "source": [
        "# Add a moving average feature\n",
        "data['GTITL2YR_MA'] = data['GTITL2YR'].rolling(window=4).mean()\n",
        "data['GTITL10YR_MA'] = data['GTITL10YR'].rolling(window=4).mean()\n",
        "data.dropna(inplace=True)"
      ],
      "metadata": {
        "id": "i4hbo9B1J5Qw"
      },
      "execution_count": null,
      "outputs": []
    },
    {
      "cell_type": "markdown",
      "source": [],
      "metadata": {
        "id": "7PFuxr-VZav6"
      }
    },
    {
      "cell_type": "code",
      "source": [
        "# Select a subset of features for modeling\n",
        "selected_features = ['VIX','DXY','GTITL2YR_MA','GTITL10YR_MA']  # Update this based on correlation\n",
        "X = data[selected_features]\n",
        "y = data['Y']\n"
      ],
      "metadata": {
        "id": "_jXe9_gEBQaY"
      },
      "execution_count": null,
      "outputs": []
    },
    {
      "cell_type": "code",
      "source": [
        "# Split data chronologically (no shuffle)\n",
        "train_size = int(0.5 * len(data))  # 50% training, 50% testing\n",
        "X_train, X_test = X.iloc[:train_size], X.iloc[train_size:]\n",
        "y_train, y_test = y.iloc[:train_size], y.iloc[train_size:]"
      ],
      "metadata": {
        "id": "TIlyBaMi9iCx"
      },
      "execution_count": null,
      "outputs": []
    },
    {
      "cell_type": "code",
      "source": [
        "# Step 3: Feature Scaling\n",
        "scaler = StandardScaler()\n",
        "X_train_scaled = scaler.fit_transform(X_train)\n",
        "X_test_scaled = scaler.transform(X_test)"
      ],
      "metadata": {
        "id": "zj7dUZnt9t6r"
      },
      "execution_count": null,
      "outputs": []
    },
    {
      "cell_type": "code",
      "source": [
        "# Step 4: Train Logistic Regression Model\n",
        "model = LogisticRegression()\n",
        "model.fit(X_train_scaled, y_train)"
      ],
      "metadata": {
        "colab": {
          "base_uri": "https://localhost:8080/",
          "height": 80
        },
        "id": "cGV-lkR49_eg",
        "outputId": "6fed44cc-2986-4d5e-b0f3-dc4dcd97242a"
      },
      "execution_count": null,
      "outputs": [
        {
          "output_type": "execute_result",
          "data": {
            "text/plain": [
              "LogisticRegression()"
            ],
            "text/html": [
              "<style>#sk-container-id-6 {\n",
              "  /* Definition of color scheme common for light and dark mode */\n",
              "  --sklearn-color-text: #000;\n",
              "  --sklearn-color-text-muted: #666;\n",
              "  --sklearn-color-line: gray;\n",
              "  /* Definition of color scheme for unfitted estimators */\n",
              "  --sklearn-color-unfitted-level-0: #fff5e6;\n",
              "  --sklearn-color-unfitted-level-1: #f6e4d2;\n",
              "  --sklearn-color-unfitted-level-2: #ffe0b3;\n",
              "  --sklearn-color-unfitted-level-3: chocolate;\n",
              "  /* Definition of color scheme for fitted estimators */\n",
              "  --sklearn-color-fitted-level-0: #f0f8ff;\n",
              "  --sklearn-color-fitted-level-1: #d4ebff;\n",
              "  --sklearn-color-fitted-level-2: #b3dbfd;\n",
              "  --sklearn-color-fitted-level-3: cornflowerblue;\n",
              "\n",
              "  /* Specific color for light theme */\n",
              "  --sklearn-color-text-on-default-background: var(--sg-text-color, var(--theme-code-foreground, var(--jp-content-font-color1, black)));\n",
              "  --sklearn-color-background: var(--sg-background-color, var(--theme-background, var(--jp-layout-color0, white)));\n",
              "  --sklearn-color-border-box: var(--sg-text-color, var(--theme-code-foreground, var(--jp-content-font-color1, black)));\n",
              "  --sklearn-color-icon: #696969;\n",
              "\n",
              "  @media (prefers-color-scheme: dark) {\n",
              "    /* Redefinition of color scheme for dark theme */\n",
              "    --sklearn-color-text-on-default-background: var(--sg-text-color, var(--theme-code-foreground, var(--jp-content-font-color1, white)));\n",
              "    --sklearn-color-background: var(--sg-background-color, var(--theme-background, var(--jp-layout-color0, #111)));\n",
              "    --sklearn-color-border-box: var(--sg-text-color, var(--theme-code-foreground, var(--jp-content-font-color1, white)));\n",
              "    --sklearn-color-icon: #878787;\n",
              "  }\n",
              "}\n",
              "\n",
              "#sk-container-id-6 {\n",
              "  color: var(--sklearn-color-text);\n",
              "}\n",
              "\n",
              "#sk-container-id-6 pre {\n",
              "  padding: 0;\n",
              "}\n",
              "\n",
              "#sk-container-id-6 input.sk-hidden--visually {\n",
              "  border: 0;\n",
              "  clip: rect(1px 1px 1px 1px);\n",
              "  clip: rect(1px, 1px, 1px, 1px);\n",
              "  height: 1px;\n",
              "  margin: -1px;\n",
              "  overflow: hidden;\n",
              "  padding: 0;\n",
              "  position: absolute;\n",
              "  width: 1px;\n",
              "}\n",
              "\n",
              "#sk-container-id-6 div.sk-dashed-wrapped {\n",
              "  border: 1px dashed var(--sklearn-color-line);\n",
              "  margin: 0 0.4em 0.5em 0.4em;\n",
              "  box-sizing: border-box;\n",
              "  padding-bottom: 0.4em;\n",
              "  background-color: var(--sklearn-color-background);\n",
              "}\n",
              "\n",
              "#sk-container-id-6 div.sk-container {\n",
              "  /* jupyter's `normalize.less` sets `[hidden] { display: none; }`\n",
              "     but bootstrap.min.css set `[hidden] { display: none !important; }`\n",
              "     so we also need the `!important` here to be able to override the\n",
              "     default hidden behavior on the sphinx rendered scikit-learn.org.\n",
              "     See: https://github.com/scikit-learn/scikit-learn/issues/21755 */\n",
              "  display: inline-block !important;\n",
              "  position: relative;\n",
              "}\n",
              "\n",
              "#sk-container-id-6 div.sk-text-repr-fallback {\n",
              "  display: none;\n",
              "}\n",
              "\n",
              "div.sk-parallel-item,\n",
              "div.sk-serial,\n",
              "div.sk-item {\n",
              "  /* draw centered vertical line to link estimators */\n",
              "  background-image: linear-gradient(var(--sklearn-color-text-on-default-background), var(--sklearn-color-text-on-default-background));\n",
              "  background-size: 2px 100%;\n",
              "  background-repeat: no-repeat;\n",
              "  background-position: center center;\n",
              "}\n",
              "\n",
              "/* Parallel-specific style estimator block */\n",
              "\n",
              "#sk-container-id-6 div.sk-parallel-item::after {\n",
              "  content: \"\";\n",
              "  width: 100%;\n",
              "  border-bottom: 2px solid var(--sklearn-color-text-on-default-background);\n",
              "  flex-grow: 1;\n",
              "}\n",
              "\n",
              "#sk-container-id-6 div.sk-parallel {\n",
              "  display: flex;\n",
              "  align-items: stretch;\n",
              "  justify-content: center;\n",
              "  background-color: var(--sklearn-color-background);\n",
              "  position: relative;\n",
              "}\n",
              "\n",
              "#sk-container-id-6 div.sk-parallel-item {\n",
              "  display: flex;\n",
              "  flex-direction: column;\n",
              "}\n",
              "\n",
              "#sk-container-id-6 div.sk-parallel-item:first-child::after {\n",
              "  align-self: flex-end;\n",
              "  width: 50%;\n",
              "}\n",
              "\n",
              "#sk-container-id-6 div.sk-parallel-item:last-child::after {\n",
              "  align-self: flex-start;\n",
              "  width: 50%;\n",
              "}\n",
              "\n",
              "#sk-container-id-6 div.sk-parallel-item:only-child::after {\n",
              "  width: 0;\n",
              "}\n",
              "\n",
              "/* Serial-specific style estimator block */\n",
              "\n",
              "#sk-container-id-6 div.sk-serial {\n",
              "  display: flex;\n",
              "  flex-direction: column;\n",
              "  align-items: center;\n",
              "  background-color: var(--sklearn-color-background);\n",
              "  padding-right: 1em;\n",
              "  padding-left: 1em;\n",
              "}\n",
              "\n",
              "\n",
              "/* Toggleable style: style used for estimator/Pipeline/ColumnTransformer box that is\n",
              "clickable and can be expanded/collapsed.\n",
              "- Pipeline and ColumnTransformer use this feature and define the default style\n",
              "- Estimators will overwrite some part of the style using the `sk-estimator` class\n",
              "*/\n",
              "\n",
              "/* Pipeline and ColumnTransformer style (default) */\n",
              "\n",
              "#sk-container-id-6 div.sk-toggleable {\n",
              "  /* Default theme specific background. It is overwritten whether we have a\n",
              "  specific estimator or a Pipeline/ColumnTransformer */\n",
              "  background-color: var(--sklearn-color-background);\n",
              "}\n",
              "\n",
              "/* Toggleable label */\n",
              "#sk-container-id-6 label.sk-toggleable__label {\n",
              "  cursor: pointer;\n",
              "  display: flex;\n",
              "  width: 100%;\n",
              "  margin-bottom: 0;\n",
              "  padding: 0.5em;\n",
              "  box-sizing: border-box;\n",
              "  text-align: center;\n",
              "  align-items: start;\n",
              "  justify-content: space-between;\n",
              "  gap: 0.5em;\n",
              "}\n",
              "\n",
              "#sk-container-id-6 label.sk-toggleable__label .caption {\n",
              "  font-size: 0.6rem;\n",
              "  font-weight: lighter;\n",
              "  color: var(--sklearn-color-text-muted);\n",
              "}\n",
              "\n",
              "#sk-container-id-6 label.sk-toggleable__label-arrow:before {\n",
              "  /* Arrow on the left of the label */\n",
              "  content: \"▸\";\n",
              "  float: left;\n",
              "  margin-right: 0.25em;\n",
              "  color: var(--sklearn-color-icon);\n",
              "}\n",
              "\n",
              "#sk-container-id-6 label.sk-toggleable__label-arrow:hover:before {\n",
              "  color: var(--sklearn-color-text);\n",
              "}\n",
              "\n",
              "/* Toggleable content - dropdown */\n",
              "\n",
              "#sk-container-id-6 div.sk-toggleable__content {\n",
              "  max-height: 0;\n",
              "  max-width: 0;\n",
              "  overflow: hidden;\n",
              "  text-align: left;\n",
              "  /* unfitted */\n",
              "  background-color: var(--sklearn-color-unfitted-level-0);\n",
              "}\n",
              "\n",
              "#sk-container-id-6 div.sk-toggleable__content.fitted {\n",
              "  /* fitted */\n",
              "  background-color: var(--sklearn-color-fitted-level-0);\n",
              "}\n",
              "\n",
              "#sk-container-id-6 div.sk-toggleable__content pre {\n",
              "  margin: 0.2em;\n",
              "  border-radius: 0.25em;\n",
              "  color: var(--sklearn-color-text);\n",
              "  /* unfitted */\n",
              "  background-color: var(--sklearn-color-unfitted-level-0);\n",
              "}\n",
              "\n",
              "#sk-container-id-6 div.sk-toggleable__content.fitted pre {\n",
              "  /* unfitted */\n",
              "  background-color: var(--sklearn-color-fitted-level-0);\n",
              "}\n",
              "\n",
              "#sk-container-id-6 input.sk-toggleable__control:checked~div.sk-toggleable__content {\n",
              "  /* Expand drop-down */\n",
              "  max-height: 200px;\n",
              "  max-width: 100%;\n",
              "  overflow: auto;\n",
              "}\n",
              "\n",
              "#sk-container-id-6 input.sk-toggleable__control:checked~label.sk-toggleable__label-arrow:before {\n",
              "  content: \"▾\";\n",
              "}\n",
              "\n",
              "/* Pipeline/ColumnTransformer-specific style */\n",
              "\n",
              "#sk-container-id-6 div.sk-label input.sk-toggleable__control:checked~label.sk-toggleable__label {\n",
              "  color: var(--sklearn-color-text);\n",
              "  background-color: var(--sklearn-color-unfitted-level-2);\n",
              "}\n",
              "\n",
              "#sk-container-id-6 div.sk-label.fitted input.sk-toggleable__control:checked~label.sk-toggleable__label {\n",
              "  background-color: var(--sklearn-color-fitted-level-2);\n",
              "}\n",
              "\n",
              "/* Estimator-specific style */\n",
              "\n",
              "/* Colorize estimator box */\n",
              "#sk-container-id-6 div.sk-estimator input.sk-toggleable__control:checked~label.sk-toggleable__label {\n",
              "  /* unfitted */\n",
              "  background-color: var(--sklearn-color-unfitted-level-2);\n",
              "}\n",
              "\n",
              "#sk-container-id-6 div.sk-estimator.fitted input.sk-toggleable__control:checked~label.sk-toggleable__label {\n",
              "  /* fitted */\n",
              "  background-color: var(--sklearn-color-fitted-level-2);\n",
              "}\n",
              "\n",
              "#sk-container-id-6 div.sk-label label.sk-toggleable__label,\n",
              "#sk-container-id-6 div.sk-label label {\n",
              "  /* The background is the default theme color */\n",
              "  color: var(--sklearn-color-text-on-default-background);\n",
              "}\n",
              "\n",
              "/* On hover, darken the color of the background */\n",
              "#sk-container-id-6 div.sk-label:hover label.sk-toggleable__label {\n",
              "  color: var(--sklearn-color-text);\n",
              "  background-color: var(--sklearn-color-unfitted-level-2);\n",
              "}\n",
              "\n",
              "/* Label box, darken color on hover, fitted */\n",
              "#sk-container-id-6 div.sk-label.fitted:hover label.sk-toggleable__label.fitted {\n",
              "  color: var(--sklearn-color-text);\n",
              "  background-color: var(--sklearn-color-fitted-level-2);\n",
              "}\n",
              "\n",
              "/* Estimator label */\n",
              "\n",
              "#sk-container-id-6 div.sk-label label {\n",
              "  font-family: monospace;\n",
              "  font-weight: bold;\n",
              "  display: inline-block;\n",
              "  line-height: 1.2em;\n",
              "}\n",
              "\n",
              "#sk-container-id-6 div.sk-label-container {\n",
              "  text-align: center;\n",
              "}\n",
              "\n",
              "/* Estimator-specific */\n",
              "#sk-container-id-6 div.sk-estimator {\n",
              "  font-family: monospace;\n",
              "  border: 1px dotted var(--sklearn-color-border-box);\n",
              "  border-radius: 0.25em;\n",
              "  box-sizing: border-box;\n",
              "  margin-bottom: 0.5em;\n",
              "  /* unfitted */\n",
              "  background-color: var(--sklearn-color-unfitted-level-0);\n",
              "}\n",
              "\n",
              "#sk-container-id-6 div.sk-estimator.fitted {\n",
              "  /* fitted */\n",
              "  background-color: var(--sklearn-color-fitted-level-0);\n",
              "}\n",
              "\n",
              "/* on hover */\n",
              "#sk-container-id-6 div.sk-estimator:hover {\n",
              "  /* unfitted */\n",
              "  background-color: var(--sklearn-color-unfitted-level-2);\n",
              "}\n",
              "\n",
              "#sk-container-id-6 div.sk-estimator.fitted:hover {\n",
              "  /* fitted */\n",
              "  background-color: var(--sklearn-color-fitted-level-2);\n",
              "}\n",
              "\n",
              "/* Specification for estimator info (e.g. \"i\" and \"?\") */\n",
              "\n",
              "/* Common style for \"i\" and \"?\" */\n",
              "\n",
              ".sk-estimator-doc-link,\n",
              "a:link.sk-estimator-doc-link,\n",
              "a:visited.sk-estimator-doc-link {\n",
              "  float: right;\n",
              "  font-size: smaller;\n",
              "  line-height: 1em;\n",
              "  font-family: monospace;\n",
              "  background-color: var(--sklearn-color-background);\n",
              "  border-radius: 1em;\n",
              "  height: 1em;\n",
              "  width: 1em;\n",
              "  text-decoration: none !important;\n",
              "  margin-left: 0.5em;\n",
              "  text-align: center;\n",
              "  /* unfitted */\n",
              "  border: var(--sklearn-color-unfitted-level-1) 1pt solid;\n",
              "  color: var(--sklearn-color-unfitted-level-1);\n",
              "}\n",
              "\n",
              ".sk-estimator-doc-link.fitted,\n",
              "a:link.sk-estimator-doc-link.fitted,\n",
              "a:visited.sk-estimator-doc-link.fitted {\n",
              "  /* fitted */\n",
              "  border: var(--sklearn-color-fitted-level-1) 1pt solid;\n",
              "  color: var(--sklearn-color-fitted-level-1);\n",
              "}\n",
              "\n",
              "/* On hover */\n",
              "div.sk-estimator:hover .sk-estimator-doc-link:hover,\n",
              ".sk-estimator-doc-link:hover,\n",
              "div.sk-label-container:hover .sk-estimator-doc-link:hover,\n",
              ".sk-estimator-doc-link:hover {\n",
              "  /* unfitted */\n",
              "  background-color: var(--sklearn-color-unfitted-level-3);\n",
              "  color: var(--sklearn-color-background);\n",
              "  text-decoration: none;\n",
              "}\n",
              "\n",
              "div.sk-estimator.fitted:hover .sk-estimator-doc-link.fitted:hover,\n",
              ".sk-estimator-doc-link.fitted:hover,\n",
              "div.sk-label-container:hover .sk-estimator-doc-link.fitted:hover,\n",
              ".sk-estimator-doc-link.fitted:hover {\n",
              "  /* fitted */\n",
              "  background-color: var(--sklearn-color-fitted-level-3);\n",
              "  color: var(--sklearn-color-background);\n",
              "  text-decoration: none;\n",
              "}\n",
              "\n",
              "/* Span, style for the box shown on hovering the info icon */\n",
              ".sk-estimator-doc-link span {\n",
              "  display: none;\n",
              "  z-index: 9999;\n",
              "  position: relative;\n",
              "  font-weight: normal;\n",
              "  right: .2ex;\n",
              "  padding: .5ex;\n",
              "  margin: .5ex;\n",
              "  width: min-content;\n",
              "  min-width: 20ex;\n",
              "  max-width: 50ex;\n",
              "  color: var(--sklearn-color-text);\n",
              "  box-shadow: 2pt 2pt 4pt #999;\n",
              "  /* unfitted */\n",
              "  background: var(--sklearn-color-unfitted-level-0);\n",
              "  border: .5pt solid var(--sklearn-color-unfitted-level-3);\n",
              "}\n",
              "\n",
              ".sk-estimator-doc-link.fitted span {\n",
              "  /* fitted */\n",
              "  background: var(--sklearn-color-fitted-level-0);\n",
              "  border: var(--sklearn-color-fitted-level-3);\n",
              "}\n",
              "\n",
              ".sk-estimator-doc-link:hover span {\n",
              "  display: block;\n",
              "}\n",
              "\n",
              "/* \"?\"-specific style due to the `<a>` HTML tag */\n",
              "\n",
              "#sk-container-id-6 a.estimator_doc_link {\n",
              "  float: right;\n",
              "  font-size: 1rem;\n",
              "  line-height: 1em;\n",
              "  font-family: monospace;\n",
              "  background-color: var(--sklearn-color-background);\n",
              "  border-radius: 1rem;\n",
              "  height: 1rem;\n",
              "  width: 1rem;\n",
              "  text-decoration: none;\n",
              "  /* unfitted */\n",
              "  color: var(--sklearn-color-unfitted-level-1);\n",
              "  border: var(--sklearn-color-unfitted-level-1) 1pt solid;\n",
              "}\n",
              "\n",
              "#sk-container-id-6 a.estimator_doc_link.fitted {\n",
              "  /* fitted */\n",
              "  border: var(--sklearn-color-fitted-level-1) 1pt solid;\n",
              "  color: var(--sklearn-color-fitted-level-1);\n",
              "}\n",
              "\n",
              "/* On hover */\n",
              "#sk-container-id-6 a.estimator_doc_link:hover {\n",
              "  /* unfitted */\n",
              "  background-color: var(--sklearn-color-unfitted-level-3);\n",
              "  color: var(--sklearn-color-background);\n",
              "  text-decoration: none;\n",
              "}\n",
              "\n",
              "#sk-container-id-6 a.estimator_doc_link.fitted:hover {\n",
              "  /* fitted */\n",
              "  background-color: var(--sklearn-color-fitted-level-3);\n",
              "}\n",
              "</style><div id=\"sk-container-id-6\" class=\"sk-top-container\"><div class=\"sk-text-repr-fallback\"><pre>LogisticRegression()</pre><b>In a Jupyter environment, please rerun this cell to show the HTML representation or trust the notebook. <br />On GitHub, the HTML representation is unable to render, please try loading this page with nbviewer.org.</b></div><div class=\"sk-container\" hidden><div class=\"sk-item\"><div class=\"sk-estimator fitted sk-toggleable\"><input class=\"sk-toggleable__control sk-hidden--visually\" id=\"sk-estimator-id-6\" type=\"checkbox\" checked><label for=\"sk-estimator-id-6\" class=\"sk-toggleable__label fitted sk-toggleable__label-arrow\"><div><div>LogisticRegression</div></div><div><a class=\"sk-estimator-doc-link fitted\" rel=\"noreferrer\" target=\"_blank\" href=\"https://scikit-learn.org/1.6/modules/generated/sklearn.linear_model.LogisticRegression.html\">?<span>Documentation for LogisticRegression</span></a><span class=\"sk-estimator-doc-link fitted\">i<span>Fitted</span></span></div></label><div class=\"sk-toggleable__content fitted\"><pre>LogisticRegression()</pre></div> </div></div></div></div>"
            ]
          },
          "metadata": {},
          "execution_count": 163
        }
      ]
    },
    {
      "cell_type": "code",
      "source": [
        "# Predictions and probabilities\n",
        "y_pred = model.predict(X_test_scaled) # Ensure y_pred is generated using the same X_test_scaled used for evaluation\n",
        "y_prob = model.predict_proba(X_test_scaled)[:, 1]\n",
        "# Classification report\n",
        "print(\"\\nClassification Report:\\n\", classification_report(y_test, y_pred))"
      ],
      "metadata": {
        "colab": {
          "base_uri": "https://localhost:8080/"
        },
        "id": "DiSkg6HYR4Ue",
        "outputId": "078e5627-025c-4044-a2bd-e820958a38cc"
      },
      "execution_count": null,
      "outputs": [
        {
          "output_type": "stream",
          "name": "stdout",
          "text": [
            "\n",
            "Classification Report:\n",
            "               precision    recall  f1-score   support\n",
            "\n",
            "           0       0.88      1.00      0.93       462\n",
            "           1       0.94      0.32      0.47        92\n",
            "\n",
            "    accuracy                           0.88       554\n",
            "   macro avg       0.91      0.66      0.70       554\n",
            "weighted avg       0.89      0.88      0.86       554\n",
            "\n"
          ]
        }
      ]
    },
    {
      "cell_type": "code",
      "source": [
        "y_prob = model.predict_proba(X_test_scaled)[:, 1]\n",
        "# Adjust the dec1\n",
        "threshold = 0.55\n",
        "y_pred = (y_prob >= threshold).astype(int)\n"
      ],
      "metadata": {
        "id": "VFbDVKSvYYGf"
      },
      "execution_count": null,
      "outputs": []
    },
    {
      "cell_type": "code",
      "source": [
        "# Classification report\n",
        "print(\"\\nClassification Report:\\n\", classification_report(y_test, y_pred))\n",
        "\n",
        "# ROC-AUC score\n",
        "roc_auc = roc_auc_score(y_test, y_prob)\n",
        "print(\"\\nROC-AUC Score:\", roc_auc)\n",
        "\n",
        "# Confusion matrix\n",
        "cm = confusion_matrix(y_test, y_pred)\n",
        "sns.heatmap(cm, annot=True, fmt='d', cmap='Blues')\n",
        "plt.title('Confusion Matrix')\n",
        "plt.ylabel('Actual')\n",
        "plt.xlabel('Predicted')\n",
        "plt.show()"
      ],
      "metadata": {
        "colab": {
          "base_uri": "https://localhost:8080/",
          "height": 704
        },
        "id": "8YkrhZ1nYwUu",
        "outputId": "964fb920-8f43-4d8c-d5d8-3c9622766438"
      },
      "execution_count": null,
      "outputs": [
        {
          "output_type": "stream",
          "name": "stdout",
          "text": [
            "\n",
            "Classification Report:\n",
            "               precision    recall  f1-score   support\n",
            "\n",
            "           0       0.94      0.94      0.94       461\n",
            "           1       0.68      0.67      0.68        92\n",
            "\n",
            "    accuracy                           0.89       553\n",
            "   macro avg       0.81      0.81      0.81       553\n",
            "weighted avg       0.89      0.89      0.89       553\n",
            "\n",
            "\n",
            "ROC-AUC Score: 0.8984249740639442\n"
          ]
        },
        {
          "output_type": "display_data",
          "data": {
            "text/plain": [
              "<Figure size 640x480 with 2 Axes>"
            ],
            "image/png": "[encoded data removed]"
          },
          "metadata": {}
        }
      ]
    },
    {
      "cell_type": "code",
      "source": [
        "from imblearn.over_sampling import SMOTE\n",
        "\n",
        "# Oversample the training data\n",
        "smote = SMOTE(random_state=42)\n",
        "X_train_balanced, y_train_balanced = smote.fit_resample(X_train_scaled, y_train)\n",
        "\n",
        "# Train Logistic Regression on the balanced data\n",
        "model_balanced = LogisticRegression()\n",
        "model_balanced.fit(X_train_balanced, y_train_balanced)\n",
        "\n",
        "# Evaluate\n",
        "y_pred_balanced = model_balanced.predict(X_test_scaled)\n",
        "y_prob_balanced = model_balanced.predict_proba(X_test_scaled)[:, 1]\n",
        "print(\"\\nClassification Report (Balanced Model):\\n\", classification_report(y_test, y_pred_balanced))\n"
      ],
      "metadata": {
        "colab": {
          "base_uri": "https://localhost:8080/"
        },
        "id": "MtuviLcDaBAV",
        "outputId": "3f0de382-1a4c-44e9-9bd3-0fa222e6a457"
      },
      "execution_count": null,
      "outputs": [
        {
          "output_type": "stream",
          "name": "stdout",
          "text": [
            "\n",
            "Classification Report (Balanced Model):\n",
            "               precision    recall  f1-score   support\n",
            "\n",
            "           0       0.89      1.00      0.94       462\n",
            "           1       0.95      0.41      0.58        92\n",
            "\n",
            "    accuracy                           0.90       554\n",
            "   macro avg       0.92      0.70      0.76       554\n",
            "weighted avg       0.90      0.90      0.88       554\n",
            "\n"
          ]
        }
      ]
    },
    {
      "cell_type": "code",
      "source": [
        "# Calculate ROC-AUC score\n",
        "roc_auc_balanced = roc_auc_score(y_test, y_prob_balanced)\n",
        "print(\"\\nROC-AUC Score (Balanced Model):\", roc_auc_balanced)\n"
      ],
      "metadata": {
        "colab": {
          "base_uri": "https://localhost:8080/"
        },
        "id": "U6hPvmE5a6qu",
        "outputId": "d8abf1d8-39b1-4a64-c695-d2381dd8306d"
      },
      "execution_count": null,
      "outputs": [
        {
          "output_type": "stream",
          "name": "stdout",
          "text": [
            "\n",
            "ROC-AUC Score (Balanced Model): 0.8922219085262564\n"
          ]
        }
      ]
    },
    {
      "cell_type": "code",
      "source": [
        "# Generate confusion matrix\n",
        "cm_balanced = confusion_matrix(y_test, y_pred_balanced)\n",
        "\n",
        "# Plot confusion matrix heatmap\n",
        "sns.heatmap(cm_balanced, annot=True, fmt='d', cmap='Blues')\n",
        "plt.title('Confusion Matrix (Balanced Logistic Regression)')\n",
        "plt.ylabel('Actual')\n",
        "plt.xlabel('Predicted')\n",
        "plt.show()\n"
      ],
      "metadata": {
        "colab": {
          "base_uri": "https://localhost:8080/",
          "height": 472
        },
        "id": "m3CVWl1ybE0Q",
        "outputId": "c549cf7c-bc4b-4f7c-ee94-40aa9055678f"
      },
      "execution_count": null,
      "outputs": [
        {
          "output_type": "display_data",
          "data": {
            "text/plain": [
              "<Figure size 640x480 with 2 Axes>"
            ],
            "image/png": "[encoded data removed]"
          },
          "metadata": {}
        }
      ]
    },
    {
      "cell_type": "code",
      "source": [
        "# Train XGBoost Model\n",
        "from xgboost import XGBClassifier\n",
        "xgb_model = XGBClassifier(scale_pos_weight=len(y_train[y_train == 0]) / len(y_train[y_train == 1]))\n",
        "xgb_model.fit(X_train_scaled, y_train)\n",
        "\n",
        "# Evaluate XGBoost Model\n",
        "y_pred_xgb = xgb_model.predict(X_test_scaled)\n",
        "y_prob_xgb = xgb_model.predict_proba(X_test_scaled)[:, 1]\n",
        "print(\"Classification Report (XGBoost):\", classification_report(y_test, y_pred_xgb))\n",
        "print(\"ROC-AUC Score (XGBoost):\", roc_auc_score(y_test, y_prob_xgb))"
      ],
      "metadata": {
        "colab": {
          "base_uri": "https://localhost:8080/"
        },
        "id": "eFEEajvlIhEG",
        "outputId": "d7f587b6-2efb-4c90-8643-14208a4e96d4"
      },
      "execution_count": null,
      "outputs": [
        {
          "output_type": "stream",
          "name": "stdout",
          "text": [
            "Classification Report (XGBoost):               precision    recall  f1-score   support\n",
            "\n",
            "           0       0.92      0.91      0.92       462\n",
            "           1       0.58      0.62      0.60        92\n",
            "\n",
            "    accuracy                           0.86       554\n",
            "   macro avg       0.75      0.77      0.76       554\n",
            "weighted avg       0.87      0.86      0.86       554\n",
            "\n",
            "ROC-AUC Score (XGBoost): 0.8904808959156787\n"
          ]
        }
      ]
    },
    {
      "cell_type": "code",
      "source": [
        "# Generate confusion matrix\n",
        "cm_xgb = confusion_matrix(y_test, y_pred_xgb)\n",
        "\n",
        "# Plot confusion matrix heatmap\n",
        "sns.heatmap(cm_xgb, annot=True, fmt='d', cmap='Blues')\n",
        "plt.title('Confusion Matrix (XGBoost)')\n",
        "plt.ylabel('Actual')\n",
        "plt.xlabel('Predicted')\n",
        "plt.show()\n"
      ],
      "metadata": {
        "colab": {
          "base_uri": "https://localhost:8080/",
          "height": 472
        },
        "id": "a348a0ATsOJu",
        "outputId": "42163163-3faa-4201-96b1-3c688b8b21d5"
      },
      "execution_count": null,
      "outputs": [
        {
          "output_type": "display_data",
          "data": {
            "text/plain": [
              "<Figure size 640x480 with 2 Axes>"
            ],
            "image/png": "[encoded data removed]"
          },
          "metadata": {}
        }
      ]
    },
    {
      "cell_type": "code",
      "source": [
        "# Train Random Forest Classifier\n",
        "from sklearn.ensemble import RandomForestClassifier\n",
        "rf_model = RandomForestClassifier(class_weight='balanced')\n",
        "rf_model.fit(X_train_scaled, y_train)\n",
        "\n",
        "# Perform Grid Search for Random Forest\n",
        "from sklearn.model_selection import GridSearchCV\n",
        "param_grid = {\n",
        "    'n_estimators': [100, 200, 300],\n",
        "    'max_depth': [None, 10, 20],\n",
        "    'min_samples_split': [2, 5, 10],\n",
        "    'min_samples_leaf': [1, 2, 4]\n",
        "}\n",
        "grid_rf = GridSearchCV(RandomForestClassifier(class_weight='balanced'), param_grid, scoring='roc_auc', cv=3)\n",
        "grid_rf.fit(X_train_scaled, y_train)\n",
        "print(\"Best Parameters:\", grid_rf.best_params_)\n",
        "\n",
        "# Evaluate Random Forest Model\n",
        "y_pred_rf = rf_model.predict(X_test_scaled)\n",
        "y_prob_rf = rf_model.predict_proba(X_test_scaled)[:, 1]\n",
        "# Confusion matrix for Random Forest\n",
        "cm_rf = confusion_matrix(y_test, y_pred_rf)\n",
        "sns.heatmap(cm_rf, annot=True, fmt='d', cmap='Blues')\n",
        "plt.title('Confusion Matrix (Random Forest)')\n",
        "plt.ylabel('Actual')\n",
        "plt.xlabel('Predicted')\n",
        "plt.show()\n",
        "print(\"Classification Report (Random Forest):\", classification_report(y_test, y_pred_rf))\n",
        "print(\"ROC-AUC Score (Random Forest):\", roc_auc_score(y_test, y_prob_rf))"
      ],
      "metadata": {
        "colab": {
          "base_uri": "https://localhost:8080/",
          "height": 668
        },
        "id": "CNo5qD4WIomU",
        "outputId": "2b5d0132-8bd8-400e-fd6a-42fb5f01a43c"
      },
      "execution_count": null,
      "outputs": [
        {
          "output_type": "stream",
          "name": "stdout",
          "text": [
            "Best Parameters: {'max_depth': None, 'min_samples_leaf': 2, 'min_samples_split': 2, 'n_estimators': 100}\n"
          ]
        },
        {
          "output_type": "display_data",
          "data": {
            "text/plain": [
              "<Figure size 640x480 with 2 Axes>"
            ],
            "image/png": "[encoded data removed]"
          },
          "metadata": {}
        },
        {
          "output_type": "stream",
          "name": "stdout",
          "text": [
            "Classification Report (Random Forest):               precision    recall  f1-score   support\n",
            "\n",
            "           0       0.89      1.00      0.94       462\n",
            "           1       0.94      0.37      0.53        92\n",
            "\n",
            "    accuracy                           0.89       554\n",
            "   macro avg       0.92      0.68      0.74       554\n",
            "weighted avg       0.90      0.89      0.87       554\n",
            "\n",
            "ROC-AUC Score (Random Forest): 0.8780702992659514\n"
          ]
        }
      ]
    },
    {
      "cell_type": "code",
      "source": [
        "# Train Isolation Forest for anomaly detection\n",
        "from sklearn.ensemble import IsolationForest\n",
        "iso_forest = IsolationForest(contamination=0.1, random_state=42)\n",
        "iso_forest.fit(X_train_scaled)\n",
        "model.fit(X_train_scaled, y_train)\n",
        "\n",
        "# Evaluate Isolation Forest\n",
        "iso_pred = iso_forest.predict(X_test_scaled)\n",
        "# Map Isolation Forest output (-1 to anomaly, 1 to normal)\n",
        "iso_pred = [0 if x == -1 else 1 for x in iso_pred]\n",
        "print(\"Classification Report (Isolation Forest):\", classification_report(y_test, iso_pred))\n"
      ],
      "metadata": {
        "colab": {
          "base_uri": "https://localhost:8080/"
        },
        "id": "tq0V0-luHGnU",
        "outputId": "cfa937b3-cb38-4228-a2c3-6198e381de52"
      },
      "execution_count": null,
      "outputs": [
        {
          "output_type": "stream",
          "name": "stdout",
          "text": [
            "Classification Report (Isolation Forest):               precision    recall  f1-score   support\n",
            "\n",
            "           0       0.81      0.79      0.80       462\n",
            "           1       0.05      0.05      0.05        92\n",
            "\n",
            "    accuracy                           0.67       554\n",
            "   macro avg       0.43      0.42      0.43       554\n",
            "weighted avg       0.68      0.67      0.67       554\n",
            "\n"
          ]
        }
      ]
    },
    {
      "cell_type": "code",
      "source": [
        "# Train Logistic Regression with class weights\n",
        "model_weighted = LogisticRegression(class_weight='balanced')\n",
        "model_weighted.fit(X_train_scaled, y_train)\n",
        "\n",
        "# Evaluate the weighted model\n",
        "y_pred_weighted = model_weighted.predict(X_test_scaled)\n",
        "print(\"Classification Report (Weighted Model):\", classification_report(y_test, y_pred_weighted))"
      ],
      "metadata": {
        "colab": {
          "base_uri": "https://localhost:8080/"
        },
        "id": "YcZsz9guDS03",
        "outputId": "7f90ee38-6695-4829-d9df-78cec701ae84"
      },
      "execution_count": null,
      "outputs": [
        {
          "output_type": "stream",
          "name": "stdout",
          "text": [
            "Classification Report (Weighted Model):               precision    recall  f1-score   support\n",
            "\n",
            "           0       0.90      1.00      0.94       462\n",
            "           1       0.95      0.43      0.60        92\n",
            "\n",
            "    accuracy                           0.90       554\n",
            "   macro avg       0.93      0.72      0.77       554\n",
            "weighted avg       0.91      0.90      0.89       554\n",
            "\n"
          ]
        }
      ]
    },
    {
      "cell_type": "code",
      "source": [
        "# Confusion matrix\n",
        "cmw = confusion_matrix(y_test, y_pred_weighted)\n",
        "sns.heatmap(cmw, annot=True, fmt='d', cmap='Blues')\n",
        "plt.title('Confusion Matrix Weighted')\n",
        "plt.ylabel('Actual')\n",
        "plt.xlabel('Predicted')\n",
        "plt.show()"
      ],
      "metadata": {
        "colab": {
          "base_uri": "https://localhost:8080/",
          "height": 472
        },
        "id": "ZfuIuZC7M0Uh",
        "outputId": "935d09af-5363-41a5-fed2-3c7dbff5cb06"
      },
      "execution_count": null,
      "outputs": [
        {
          "output_type": "display_data",
          "data": {
            "text/plain": [
              "<Figure size 640x480 with 2 Axes>"
            ],
            "image/png": "[encoded data removed]"
          },
          "metadata": {}
        }
      ]
    },
    {
      "cell_type": "code",
      "source": [
        "import joblib\n",
        "\n",
        "# Save Logistic Regression Model\n",
        "joblib.dump(model, 'logistic_regression_model.pkl')\n",
        "\n",
        "# Save Weighted Logistic Regression Model\n",
        "joblib.dump(model_weighted, 'logistic_regression_weighted_model.pkl')\n",
        "\n",
        "# Save XGBoost Model\n",
        "joblib.dump(xgb_model, 'xgboost_model.pkl')\n",
        "\n",
        "# Save Random Forest Model\n",
        "joblib.dump(rf_model, 'random_forest_model.pkl')\n",
        "\n",
        "# Save Isolation Forest Model\n",
        "joblib.dump(iso_forest, 'isolation_forest_model.pkl')\n"
      ],
      "metadata": {
        "id": "no67P6-2fkLz",
        "outputId": "69264c8c-7625-4ea9-fb9a-d6c01a655109",
        "colab": {
          "base_uri": "https://localhost:8080/"
        }
      },
      "execution_count": null,
      "outputs": [
        {
          "output_type": "execute_result",
          "data": {
            "text/plain": [
              "['isolation_forest_model.pkl']"
            ]
          },
          "metadata": {},
          "execution_count": 135
        }
      ]
    },
    {
      "cell_type": "code",
      "source": [
        "from sklearn.preprocessing import StandardScaler\n",
        "# Save the scaler\n",
        "joblib.dump(scaler, '/content/scaler.pkl')  # Save to a file"
      ],
      "metadata": {
        "colab": {
          "base_uri": "https://localhost:8080/"
        },
        "id": "6tZdDjIAOEUJ",
        "outputId": "b55badc4-1951-4257-c118-175d061c3640"
      },
      "execution_count": null,
      "outputs": [
        {
          "output_type": "execute_result",
          "data": {
            "text/plain": [
              "['/content/scaler.pkl']"
            ]
          },
          "metadata": {},
          "execution_count": 258
        }
      ]
    },
    {
      "cell_type": "code",
      "source": [
        "# Step 6: Feature Importance\n",
        "# Logistic Regression coefficients\n",
        "feature_importance = pd.DataFrame({\n",
        "    'Feature': selected_features,\n",
        "    'Importance': model.coef_[0]\n",
        "}).sort_values(by='Importance', ascending=False)\n",
        "print(\"\\nFeature Importance:\\n\", feature_importance)\n"
      ],
      "metadata": {
        "colab": {
          "base_uri": "https://localhost:8080/"
        },
        "id": "BFKBsidx_mZR",
        "outputId": "0aa7d20a-8322-49a0-d3a3-7ac734fc89f3"
      },
      "execution_count": null,
      "outputs": [
        {
          "output_type": "stream",
          "name": "stdout",
          "text": [
            "\n",
            "Feature Importance:\n",
            "         Feature  Importance\n",
            "0           VIX    2.450268\n",
            "2   GTITL2YR_MA    0.450500\n",
            "3  GTITL10YR_MA    0.396123\n",
            "1           DXY   -0.116310\n"
          ]
        }
      ]
    },
    {
      "cell_type": "code",
      "source": [
        "import pandas as pd\n",
        "\n",
        "# Load the dataset\n",
        "file_path = '/content/EWS.csv'  # Ensure this is the correct file path in Colab\n",
        "data = pd.read_csv(file_path)"
      ],
      "metadata": {
        "id": "I2njr9HfDKRS"
      },
      "execution_count": null,
      "outputs": []
    },
    {
      "cell_type": "code",
      "source": [
        "import joblib\n",
        "\n",
        "# Load the model\n",
        "model = joblib.load('/content/logistic_regression_model.pkl')\n",
        "\n",
        "# Confirm model is loaded\n",
        "print(\"Model loaded successfully!\")"
      ],
      "metadata": {
        "colab": {
          "base_uri": "https://localhost:8080/"
        },
        "id": "OpuO9lOAPXf1",
        "outputId": "c9ee506e-7045-4a37-d504-a585b48a61c1"
      },
      "execution_count": null,
      "outputs": [
        {
          "output_type": "stream",
          "name": "stdout",
          "text": [
            "Model loaded successfully!\n"
          ]
        }
      ]
    },
    {
      "cell_type": "code",
      "source": [
        "# Ensure the dataset is split the same way\n",
        "train_size = int(0.5 * len(data))\n",
        "\n",
        "X_train = data.iloc[:train_size, 1:]  # Exclude 'Y' column\n",
        "y_train = data.iloc[:train_size, 0]  # First column for training\n",
        "\n",
        "X_test = data.iloc[train_size:, 1:]  # Exclude 'Y' column\n",
        "y_test = data.iloc[train_size:, 0]  # First column for testing"
      ],
      "metadata": {
        "id": "UNUvn-KfDX3E"
      },
      "execution_count": null,
      "outputs": []
    },
    {
      "cell_type": "code",
      "source": [
        "# Exclude the 'Y' column for predictions\n",
        "X_test_features = X_test.copy()"
      ],
      "metadata": {
        "id": "_VMz51HhDePM"
      },
      "execution_count": null,
      "outputs": []
    },
    {
      "cell_type": "code",
      "source": [
        "# Convert 'Data' column to datetime\n",
        "X_test_features['Data'] = pd.to_datetime(X_test_features['Data'])\n",
        "\n",
        "# Extract numeric features\n",
        "X_test_features['Year'] = X_test_features['Data'].dt.year\n",
        "X_test_features['Month'] = X_test_features['Data'].dt.month\n",
        "X_test_features['Day'] = X_test_features['Data'].dt.day\n",
        "\n",
        "# Drop the original 'Data' column\n",
        "X_test_features = X_test_features.drop(columns=['Data'])"
      ],
      "metadata": {
        "id": "EZWFmyzfgCIe"
      },
      "execution_count": null,
      "outputs": []
    },
    {
      "cell_type": "markdown",
      "source": [],
      "metadata": {
        "id": "Shw5a5G5feXd"
      }
    },
    {
      "cell_type": "code",
      "source": [
        "from sklearn.preprocessing import StandardScaler\n",
        "\n",
        "# Apply the scaler used during training\n",
        "scaler = StandardScaler()\n",
        "# Apply moving averages to the test data\n",
        "X_test['GTITL2YR_MA'] = X_test['GTITL2YR'].rolling(window=4).mean()\n",
        "X_test['GTITL10YR_MA'] = X_test['GTITL10YR'].rolling(window=4).mean()\n",
        "\n",
        "# Drop rows with missing values\n",
        "X_test.dropna(inplace=True)\n",
        "y_test = y_test[X_test.index]  # Align y_test with X_test\n",
        "\n",
        "# Select the same features as used in training\n",
        "selected_features = ['VIX', 'DXY','GTITL2YR_MA', 'GTITL10YR_MA']\n",
        "X_test = X_test[selected_features]\n",
        "X_test_scaled = scaler.fit_transform(X_test)  # Use the same scaler object"
      ],
      "metadata": {
        "id": "u12OaxCLDkH5"
      },
      "execution_count": null,
      "outputs": []
    },
    {
      "cell_type": "code",
      "source": [
        "print(X_test.dtypes)\n"
      ],
      "metadata": {
        "colab": {
          "base_uri": "https://localhost:8080/"
        },
        "id": "ufM5tvRqEmCz",
        "outputId": "d7d8cfdc-e853-4c16-e8e2-3641747dd1eb"
      },
      "execution_count": null,
      "outputs": [
        {
          "output_type": "stream",
          "name": "stdout",
          "text": [
            "VIX             float64\n",
            "DXY             float64\n",
            "GTITL2YR_MA     float64\n",
            "GTITL10YR_MA    float64\n",
            "dtype: object\n"
          ]
        }
      ]
    },
    {
      "cell_type": "code",
      "source": [
        "# Generate predictions\n",
        "y_pred = model.predict(X_test_scaled)\n",
        "y_prob = model.predict_proba(X_test_scaled)[:, 1]\n",
        "\n",
        "# Set the custom threshold\n",
        "threshold = 0.7\n",
        "\n",
        "# Apply the custom threshold\n",
        "y_pred_threshold = (y_prob >= threshold).astype(int)  # Classify as 1 if probability >= threshold, else 0\n",
        "\n",
        "# Compare predictions with actual values\n",
        "comparison = pd.DataFrame({\n",
        "    'Actual': y_test.values,       # Actual labels\n",
        "    'Predicted': y_pred_threshold,      # Predicted labels with custom threshold\n",
        "\n",
        "    'Probability': y_prob          # Prediction probabilities\n",
        "})\n",
        "\n",
        "# Display the first few rows of comparison\n",
        "print(comparison.head())\n"
      ],
      "metadata": {
        "colab": {
          "base_uri": "https://localhost:8080/"
        },
        "id": "Dst2RyHBg2De",
        "outputId": "a64dbf52-4f6f-4c24-baa4-801d2f081656"
      },
      "execution_count": null,
      "outputs": [
        {
          "output_type": "stream",
          "name": "stdout",
          "text": [
            "   Actual  Predicted  Probability\n",
            "0       0          0     0.339397\n",
            "1       0          0     0.472384\n",
            "2       0          0     0.436155\n",
            "3       0          0     0.562704\n",
            "4       0          0     0.366630\n"
          ]
        }
      ]
    },
    {
      "cell_type": "code",
      "source": [
        "# Define investment strategy based on predictions\n",
        "def investment_strategy(probability):\n",
        "    if probability > 0.7:\n",
        "        return \"Move to safer investments (bonds, gold, cash)\"\n",
        "    elif probability < 0.3:\n",
        "        return \"Maintain high-risk portfolio (equities)\"\n",
        "    else:\n",
        "        return \"Diversify portfolio to balance risk\"\n",
        "\n",
        "# Apply the strategy to the test dataset\n",
        "comparison['Strategy'] = comparison['Probability'].apply(investment_strategy)\n",
        "print(comparison[['Actual', 'Predicted', 'Probability', 'Strategy']].head())\n"
      ],
      "metadata": {
        "id": "Ui_b0cM4t7WH",
        "outputId": "611772fa-7eca-489f-c5b4-e3f520aa5c87",
        "colab": {
          "base_uri": "https://localhost:8080/"
        }
      },
      "execution_count": null,
      "outputs": [
        {
          "output_type": "stream",
          "name": "stdout",
          "text": [
            "   Actual  Predicted  Probability                             Strategy\n",
            "0       0          0     0.618354  Diversify portfolio to balance risk\n",
            "1       0          0     0.647315  Diversify portfolio to balance risk\n",
            "2       0          0     0.571480  Diversify portfolio to balance risk\n",
            "3       0          0     0.321124  Diversify portfolio to balance risk\n",
            "4       0          0     0.464586  Diversify portfolio to balance risk\n"
          ]
        }
      ]
    },
    {
      "cell_type": "code",
      "source": [
        "# Evaluate the model\n",
        "from sklearn.metrics import classification_report, roc_auc_score, confusion_matrix\n",
        "import seaborn as sns\n",
        "import matplotlib.pyplot as plt\n",
        "\n",
        "# Classification report\n",
        "print(\"\\nClassification Report:\\n\", classification_report(y_test, y_pred))\n",
        "\n",
        "# ROC-AUC score\n",
        "roc_auc = roc_auc_score(y_test, y_prob)\n",
        "print(\"\\nROC-AUC Score:\", roc_auc)\n",
        "\n",
        "# Confusion matrix\n",
        "cm = confusion_matrix(y_test, y_pred)\n",
        "sns.heatmap(cm, annot=True, fmt='d', cmap='Blues')\n",
        "plt.title('Confusion Matrix')\n",
        "plt.ylabel('Actual')\n",
        "plt.xlabel('Predicted')\n",
        "plt.show()"
      ],
      "metadata": {
        "colab": {
          "base_uri": "https://localhost:8080/",
          "height": 704
        },
        "id": "z5H5suobg5q6",
        "outputId": "65a21f0f-dbea-4f8b-f7e5-0e4603c5d7c1"
      },
      "execution_count": null,
      "outputs": [
        {
          "output_type": "stream",
          "name": "stdout",
          "text": [
            "\n",
            "Classification Report:\n",
            "               precision    recall  f1-score   support\n",
            "\n",
            "           0       0.94      0.92      0.93       461\n",
            "           1       0.64      0.71      0.67        92\n",
            "\n",
            "    accuracy                           0.88       553\n",
            "   macro avg       0.79      0.81      0.80       553\n",
            "weighted avg       0.89      0.88      0.89       553\n",
            "\n",
            "\n",
            "ROC-AUC Score: 0.8984249740639442\n"
          ]
        },
        {
          "output_type": "display_data",
          "data": {
            "text/plain": [
              "<Figure size 640x480 with 2 Axes>"
            ],
            "image/png": "[encoded data removed]"
          },
          "metadata": {}
        }
      ]
    },
    {
      "cell_type": "code",
      "source": [
        "!pip install yfinance\n",
        "!pip install beautifulsoup4"
      ],
      "metadata": {
        "colab": {
          "base_uri": "https://localhost:8080/"
        },
        "id": "Tfi-OuAF7DWR",
        "outputId": "0c6fa4c5-29b0-4886-9c74-941650ecb727"
      },
      "execution_count": null,
      "outputs": [
        {
          "output_type": "stream",
          "name": "stdout",
          "text": [
            "Requirement already satisfied: yfinance in /usr/local/lib/python3.10/dist-packages (0.2.51)\n",
            "Requirement already satisfied: pandas>=1.3.0 in /usr/local/lib/python3.10/dist-packages (from yfinance) (2.2.2)\n",
            "Requirement already satisfied: numpy>=1.16.5 in /usr/local/lib/python3.10/dist-packages (from yfinance) (1.26.4)\n",
            "Requirement already satisfied: requests>=2.31 in /usr/local/lib/python3.10/dist-packages (from yfinance) (2.32.3)\n",
            "Requirement already satisfied: multitasking>=0.0.7 in /usr/local/lib/python3.10/dist-packages (from yfinance) (0.0.11)\n",
            "Requirement already satisfied: lxml>=4.9.1 in /usr/local/lib/python3.10/dist-packages (from yfinance) (5.3.0)\n",
            "Requirement already satisfied: platformdirs>=2.0.0 in /usr/local/lib/python3.10/dist-packages (from yfinance) (4.3.6)\n",
            "Requirement already satisfied: pytz>=2022.5 in /usr/local/lib/python3.10/dist-packages (from yfinance) (2024.2)\n",
            "Requirement already satisfied: frozendict>=2.3.4 in /usr/local/lib/python3.10/dist-packages (from yfinance) (2.4.6)\n",
            "Requirement already satisfied: peewee>=3.16.2 in /usr/local/lib/python3.10/dist-packages (from yfinance) (3.17.8)\n",
            "Requirement already satisfied: beautifulsoup4>=4.11.1 in /usr/local/lib/python3.10/dist-packages (from yfinance) (4.12.3)\n",
            "Requirement already satisfied: html5lib>=1.1 in /usr/local/lib/python3.10/dist-packages (from yfinance) (1.1)\n",
            "Requirement already satisfied: soupsieve>1.2 in /usr/local/lib/python3.10/dist-packages (from beautifulsoup4>=4.11.1->yfinance) (2.6)\n",
            "Requirement already satisfied: six>=1.9 in /usr/local/lib/python3.10/dist-packages (from html5lib>=1.1->yfinance) (1.17.0)\n",
            "Requirement already satisfied: webencodings in /usr/local/lib/python3.10/dist-packages (from html5lib>=1.1->yfinance) (0.5.1)\n",
            "Requirement already satisfied: python-dateutil>=2.8.2 in /usr/local/lib/python3.10/dist-packages (from pandas>=1.3.0->yfinance) (2.8.2)\n",
            "Requirement already satisfied: tzdata>=2022.7 in /usr/local/lib/python3.10/dist-packages (from pandas>=1.3.0->yfinance) (2024.2)\n",
            "Requirement already satisfied: charset-normalizer<4,>=2 in /usr/local/lib/python3.10/dist-packages (from requests>=2.31->yfinance) (3.4.1)\n",
            "Requirement already satisfied: idna<4,>=2.5 in /usr/local/lib/python3.10/dist-packages (from requests>=2.31->yfinance) (3.10)\n",
            "Requirement already satisfied: urllib3<3,>=1.21.1 in /usr/local/lib/python3.10/dist-packages (from requests>=2.31->yfinance) (2.3.0)\n",
            "Requirement already satisfied: certifi>=2017.4.17 in /usr/local/lib/python3.10/dist-packages (from requests>=2.31->yfinance) (2024.12.14)\n",
            "Requirement already satisfied: beautifulsoup4 in /usr/local/lib/python3.10/dist-packages (4.12.3)\n",
            "Requirement already satisfied: soupsieve>1.2 in /usr/local/lib/python3.10/dist-packages (from beautifulsoup4) (2.6)\n"
          ]
        }
      ]
    },
    {
      "cell_type": "code",
      "source": [
        "import yfinance as yf\n",
        "import pandas as pd\n"
      ],
      "metadata": {
        "id": "LZ8aRlP_7Rxk"
      },
      "execution_count": null,
      "outputs": []
    },
    {
      "cell_type": "code",
      "source": [
        "# Step 1: Fetch current or EOD prices\n",
        "tickers = {\n",
        "    'VIX': '^VIX',        # Volatility Index\n",
        "    'DXY': 'DX-Y.NYB'     # US Dollar Index\n",
        "}\n",
        "\n",
        "# Fetch current prices\n",
        "current_data = {}\n",
        "for name, ticker in tickers.items():\n",
        "    data = yf.Ticker(ticker)\n",
        "    history = data.history(period=\"1d\")  # Get EOD or latest price\n",
        "    if not history.empty:\n",
        "        current_data[name] = history['Close'].iloc[-1]  # Latest closing price\n",
        "    else:\n",
        "        current_data[name] = None  # Handle missing data\n",
        "\n",
        "print(\"Current Prices:\")\n",
        "print(current_data)\n"
      ],
      "metadata": {
        "colab": {
          "base_uri": "https://localhost:8080/"
        },
        "id": "oUhLQToH7ZJz",
        "outputId": "5e55fae7-f1c8-46b4-9d70-5227059192f6"
      },
      "execution_count": null,
      "outputs": [
        {
          "output_type": "stream",
          "name": "stdout",
          "text": [
            "Current Prices:\n",
            "{'VIX': 19.540000915527344, 'DXY': 109.7239990234375}\n"
          ]
        }
      ]
    },
    {
      "cell_type": "code",
      "source": [
        "# Define tickers for GTITL2YR and GTITL10YR (these may not be directly available in yfinance)\n",
        "moving_average_tickers = {\n",
        "    'GTITL2YR': '^IRX',   # 2-Year Treasury Yield\n",
        "    'GTITL10YR': '^TNX'   # 10-Year Treasury Yield\n",
        "}\n",
        "\n",
        "# Fetch historical data for the past 30 days\n",
        "historical_data = {}\n",
        "for name, ticker in moving_average_tickers.items():\n",
        "    data = yf.Ticker(ticker)\n",
        "    history = data.history(period=\"1mo\")  # Fetch last 30 days\n",
        "    if not history.empty:\n",
        "        historical_data[name] = history['Close']  # Get closing prices\n",
        "    else:\n",
        "        historical_data[name] = None  # Handle missing data\n",
        "\n",
        "# Combine historical data into a DataFrame\n",
        "df = pd.DataFrame(historical_data)\n",
        "\n",
        "# Calculate 4-week (30-day) moving averages\n",
        "df['GTITL2YR_MA'] = df['GTITL2YR'].rolling(window=4).mean()\n",
        "df['GTITL10YR_MA'] = df['GTITL10YR'].rolling(window=4).mean()\n",
        "\n",
        "# Get the latest moving averages\n",
        "latest_averages = {\n",
        "    'GTITL2YR_MA': df['GTITL2YR_MA'].iloc[-1],\n",
        "    'GTITL10YR_MA': df['GTITL10YR_MA'].iloc[-1]\n",
        "}\n",
        "\n",
        "print(\"\\nLatest Moving Averages:\")\n",
        "print(latest_averages)"
      ],
      "metadata": {
        "colab": {
          "base_uri": "https://localhost:8080/"
        },
        "id": "E6y7_M79Kxxa",
        "outputId": "ae0bea55-e1c0-4cc3-bc13-588f37d9149c"
      },
      "execution_count": null,
      "outputs": [
        {
          "output_type": "stream",
          "name": "stdout",
          "text": [
            "\n",
            "Latest Moving Averages:\n",
            "{'GTITL2YR_MA': 4.202749967575073, 'GTITL10YR_MA': 4.692499995231628}\n"
          ]
        }
      ]
    },
    {
      "cell_type": "code",
      "source": [
        "# Step 3: Combine current prices and moving averages into input data\n",
        "input_data = {\n",
        "    'VIX': current_data['VIX'],\n",
        "    'DXY': current_data['DXY'],\n",
        "    'GTITL2YR_MA': latest_averages['GTITL2YR_MA'],\n",
        "    'GTITL10YR_MA': latest_averages['GTITL10YR_MA']\n",
        "}\n",
        "\n",
        "# Handle missing values\n",
        "for key, value in input_data.items():\n",
        "    if value is None:\n",
        "        print(f\"Warning: Missing value for {key}\")\n",
        "        input_data[key] = 0  # Fallback to 0 or another default value\n",
        "\n",
        "# Convert to DataFrame\n",
        "input_df = pd.DataFrame([input_data])\n",
        "print(\"\\nInput Data for Prediction:\")\n",
        "print(input_df)"
      ],
      "metadata": {
        "colab": {
          "base_uri": "https://localhost:8080/"
        },
        "id": "I3FQYiPiLQhd",
        "outputId": "d543b42b-74fd-4bb6-c690-850379cd51cc"
      },
      "execution_count": null,
      "outputs": [
        {
          "output_type": "stream",
          "name": "stdout",
          "text": [
            "\n",
            "Input Data for Prediction:\n",
            "         VIX         DXY  GTITL2YR_MA  GTITL10YR_MA\n",
            "0  19.540001  109.723999      4.20275        4.6925\n"
          ]
        }
      ]
    },
    {
      "cell_type": "code",
      "source": [
        "# Step 4: Predict using the trained model (load your model first)\n",
        "import joblib\n",
        "\n",
        "# Load the trained model (ensure the .pkl file is uploaded to Colab)\n",
        "model = joblib.load('/content/logistic_regression_model.pkl')  # Update the file path if necessary\n",
        "# Load the scaler\n",
        "scaler = joblib.load('/content/scaler.pkl')\n",
        "\n",
        "# Scale the input data using the loaded scaler\n",
        "input_data_scaled = scaler.transform(input_df)\n",
        "\n",
        "# Generate predictions\n",
        "predicted_label = model.predict(input_data_scaled)  # Binary label prediction\n",
        "predicted_prob = model.predict_proba(input_data_scaled)[:, 1]  # Probability of class 1\n",
        "\n",
        "threshold=0.7\n",
        "predicted_label = (predicted_prob >= threshold).astype(int)  # Classify as 1 if probability >= threshold\n",
        "\n",
        "# Display results\n",
        "print(\"\\nPredicted Label (with threshold):\", predicted_label)\n",
        "print(\"Predicted Probability:\", predicted_prob)\n"
      ],
      "metadata": {
        "colab": {
          "base_uri": "https://localhost:8080/"
        },
        "id": "P6Joj1Ma7hI5",
        "outputId": "4e6202e4-1d4b-467f-f991-3dbfd771bbf1"
      },
      "execution_count": null,
      "outputs": [
        {
          "output_type": "stream",
          "name": "stdout",
          "text": [
            "\n",
            "Predicted Label (with threshold): [0]\n",
            "Predicted Probability: [0.11076617]\n"
          ]
        }
      ]
    },
    {
      "cell_type": "code",
      "source": [
        "import pandas as pd\n",
        "\n",
        "# Assuming `input_data` is already a pandas DataFrame\n",
        "# Add predictions and probabilities\n",
        "input_df['Predicted'] = predicted_label  # Ensure `predicted_label` is not a NumPy array but a list or Series\n",
        "input_df['Probability'] = predicted_prob  # Ensure `predicted_prob` is not a NumPy array but a list or Series\n",
        "\n",
        "# Define investment strategy based on predictions\n",
        "def investment_strategy(probability):\n",
        "    if probability > 0.7:\n",
        "        return \"Move to safer investments (bonds, gold, cash)\"\n",
        "    elif probability < 0.3:\n",
        "        return \"Maintain high-risk portfolio (equities)\"\n",
        "    else:\n",
        "        return \"Diversify portfolio to balance risk\"\n",
        "\n",
        "# Convert `Probability` to a pandas Series if needed\n",
        "input_df['Probability'] = pd.Series(input_data['Probability'])\n",
        "\n",
        "# Apply the investment strategy\n",
        "input_df['Strategy'] = input_data['Probability'].apply(investment_strategy)\n",
        "\n",
        "# Display the updated DataFrame\n",
        "print(\"\\nPredictions and Investment Strategy:\")\n",
        "print(input_df[['VIX', 'DXY', 'GTITL2YR_MA', 'GTITL10YR_MA', 'Predicted', 'Probability', 'Strategy']])\n"
      ],
      "metadata": {
        "colab": {
          "base_uri": "https://localhost:8080/"
        },
        "id": "A3ZYm8WsQQVY",
        "outputId": "033d37e3-9f51-4acb-870c-6a36656d89a6"
      },
      "execution_count": null,
      "outputs": [
        {
          "output_type": "stream",
          "name": "stdout",
          "text": [
            "\n",
            "Predictions and Investment Strategy:\n",
            "         VIX         DXY  GTITL2YR_MA  GTITL10YR_MA  Predicted  Probability  \\\n",
            "0  19.540001  109.723999      4.20275        4.6925          0     0.110766   \n",
            "\n",
            "                                  Strategy  \n",
            "0  Maintain high-risk portfolio (equities)  \n"
          ]
        }
      ]
    }
  ]
}